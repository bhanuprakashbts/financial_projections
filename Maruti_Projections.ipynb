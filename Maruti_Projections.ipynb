{
  "nbformat": 4,
  "nbformat_minor": 0,
  "metadata": {
    "colab": {
      "name": "modelling_practice_tata.ipynb",
      "provenance": [],
      "collapsed_sections": []
    },
    "kernelspec": {
      "name": "python3",
      "display_name": "Python 3"
    }
  },
  "cells": [
    {
      "cell_type": "code",
      "metadata": {
        "id": "tHPNSx3wopE6",
        "colab_type": "code",
        "colab": {}
      },
      "source": [
        "import numpy as np\n",
        "import pandas as pd\n",
        "# Import PnL from Moneycontrol webpage\n",
        "data = pd.read_html('https://www.moneycontrol.com/financials/marutisuzukiindia/results/yearly/MS24#MS24',header=0)[0]\n",
        "data1 = pd.read_html('https://www.moneycontrol.com/financials/marutisuzukiindia/results/yearly/MS24/2#MS24',header=0)[0]\n",
        "data2 = pd.read_html('https://www.moneycontrol.com/financials/marutisuzukiindia/results/yearly/MS24/3#MS24', header = 0)[0]"
      ],
      "execution_count": 0,
      "outputs": []
    },
    {
      "cell_type": "code",
      "metadata": {
        "id": "5vMDvhVYRd22",
        "colab_type": "code",
        "colab": {
          "base_uri": "https://localhost:8080/",
          "height": 141
        },
        "outputId": "c2ff5652-96ef-4647-9f60-b40a3799d175"
      },
      "source": [
        "#checking the dimensions of Dataframe\n",
        "\n",
        "print(data.head().to_string())\n",
        "print(\"Dimensions of the datasets is \" + str([data.shape, data1.shape, data2.shape]))"
      ],
      "execution_count": 2,
      "outputs": [
        {
          "output_type": "stream",
          "text": [
            "  Yearly Results of Maruti Suzuki India (in Rs. Cr.)   Mar '19   Mar '18   Mar '17   Mar '16   Mar '15  Unnamed: 6\n",
            "0                   Net Sales/Income from operations  83026.50  78104.80  66909.40  56441.20  48605.53         NaN\n",
            "1                             Other Operating Income   2993.80   1657.90   1125.40   1096.90   1365.11         NaN\n",
            "2                       Total Income From Operations  86020.30  79762.70  68034.80  57538.10  49970.64         NaN\n",
            "3                                        EXPENDITURE       NaN       NaN       NaN       NaN       NaN         NaN\n",
            "4                       Consumption of Raw Materials  45023.90  44941.30  42629.60  35483.90  32798.66         NaN\n",
            "Dimensions of the datasets is [(49, 7), (49, 7), (49, 7)]\n"
          ],
          "name": "stdout"
        }
      ]
    },
    {
      "cell_type": "code",
      "metadata": {
        "id": "J5Wu3__NztCd",
        "colab_type": "code",
        "colab": {}
      },
      "source": [
        "#combine the dataframes in one dataframe\n",
        "\n",
        "data_maruti = pd.concat([data,data1,data2],axis = 1)"
      ],
      "execution_count": 0,
      "outputs": []
    },
    {
      "cell_type": "code",
      "metadata": {
        "id": "eiOT1H2u4L1d",
        "colab_type": "code",
        "colab": {}
      },
      "source": [
        "#setting the column with the Particulars as row index \n",
        "\n",
        "data_maruti.index = data[data.columns[0]]"
      ],
      "execution_count": 0,
      "outputs": []
    },
    {
      "cell_type": "code",
      "metadata": {
        "id": "B5Zjra6j4YfU",
        "colab_type": "code",
        "colab": {
          "base_uri": "https://localhost:8080/",
          "height": 161
        },
        "outputId": "2f5c4437-9c12-44a4-abf3-886363001864"
      },
      "source": [
        "print(data_maruti.head().to_string())"
      ],
      "execution_count": 5,
      "outputs": [
        {
          "output_type": "stream",
          "text": [
            "                                                   Yearly Results of Maruti Suzuki India (in Rs. Cr.)   Mar '19   Mar '18   Mar '17   Mar '16   Mar '15  Unnamed: 6 Yearly Results of Maruti Suzuki India (in Rs. Cr.)   Mar '14   Mar '13   Mar '12   Mar '11   Mar '10  Unnamed: 6 Yearly Results of Maruti Suzuki India (in Rs. Cr.)   Mar '09   Mar '08   Mar '07   Mar '06   Mar '05  Unnamed: 6\n",
            "Yearly Results of Maruti Suzuki India (in Rs. Cr.)                                                                                                                                                                                                                                                                                                                                                   \n",
            "Net Sales/Income from operations                                     Net Sales/Income from operations  83026.50  78104.80  66909.40  56441.20  48605.53         NaN                   Net Sales/Income from operations  42644.76  42612.56  34705.89  36299.74  29623.01         NaN                   Net Sales/Income from operations  20852.52  17860.28  17205.88  14753.10  13343.06         NaN\n",
            "Other Operating Income                                                         Other Operating Income   2993.80   1657.90   1125.40   1096.90   1365.11         NaN                             Other Operating Income   1055.87    975.37    881.20    740.35        --         NaN                             Other Operating Income        --        --        --        --        --         NaN\n",
            "Total Income From Operations                                             Total Income From Operations  86020.30  79762.70  68034.80  57538.10  49970.64         NaN                       Total Income From Operations  43700.63  43587.93  35587.09  37040.09  29623.01         NaN                       Total Income From Operations  20852.52  17860.28  17205.88        --        --         NaN\n",
            "EXPENDITURE                                                                               EXPENDITURE       NaN       NaN       NaN       NaN       NaN         NaN                                        EXPENDITURE       NaN       NaN       NaN       NaN       NaN         NaN                                        EXPENDITURE       NaN       NaN       NaN       NaN       NaN         NaN\n",
            "Consumption of Raw Materials                                             Consumption of Raw Materials  45023.90  44941.30  42629.60  35483.90  32798.66         NaN                       Consumption of Raw Materials  28864.58  30530.22  26664.28  27576.13  21701.73         NaN                       Consumption of Raw Materials  15235.27  13161.35  10830.71   9440.30   8583.67         NaN\n"
          ],
          "name": "stdout"
        }
      ]
    },
    {
      "cell_type": "code",
      "metadata": {
        "id": "xFmzClMN4bcE",
        "colab_type": "code",
        "colab": {}
      },
      "source": [
        "data_maruti = data_maruti.drop(['Yearly Results of Maruti Suzuki India (in Rs. Cr.)', 'Unnamed: 6'], axis = 1)"
      ],
      "execution_count": 0,
      "outputs": []
    },
    {
      "cell_type": "code",
      "metadata": {
        "id": "LmTOE0Qw4o5x",
        "colab_type": "code",
        "colab": {
          "base_uri": "https://localhost:8080/",
          "height": 801
        },
        "outputId": "e21faf9e-4feb-4c47-8373-ddd5975d0abd"
      },
      "source": [
        "print(data_maruti.head().to_string())\n",
        "print(str(\"   \"))\n",
        "print(\"shape of dataframe is \" + str(data_maruti.shape))\n",
        "print(str(\"   \"))\n",
        "print(\"data types of columns is \" + str(data_maruti.dtypes))\n",
        "print(str(\"   \"))\n",
        "print(\"missing value in data is \" + str(data_maruti.isnull().sum()))"
      ],
      "execution_count": 7,
      "outputs": [
        {
          "output_type": "stream",
          "text": [
            "                                                     Mar '19   Mar '18   Mar '17   Mar '16   Mar '15   Mar '14   Mar '13   Mar '12   Mar '11   Mar '10   Mar '09   Mar '08   Mar '07   Mar '06   Mar '05\n",
            "Yearly Results of Maruti Suzuki India (in Rs. Cr.)                                                                                                                                                      \n",
            "Net Sales/Income from operations                    83026.50  78104.80  66909.40  56441.20  48605.53  42644.76  42612.56  34705.89  36299.74  29623.01  20852.52  17860.28  17205.88  14753.10  13343.06\n",
            "Other Operating Income                               2993.80   1657.90   1125.40   1096.90   1365.11   1055.87    975.37    881.20    740.35        --        --        --        --        --        --\n",
            "Total Income From Operations                        86020.30  79762.70  68034.80  57538.10  49970.64  43700.63  43587.93  35587.09  37040.09  29623.01  20852.52  17860.28  17205.88        --        --\n",
            "EXPENDITURE                                              NaN       NaN       NaN       NaN       NaN       NaN       NaN       NaN       NaN       NaN       NaN       NaN       NaN       NaN       NaN\n",
            "Consumption of Raw Materials                        45023.90  44941.30  42629.60  35483.90  32798.66  28864.58  30530.22  26664.28  27576.13  21701.73  15235.27  13161.35  10830.71   9440.30   8583.67\n",
            "   \n",
            "shape of dataframe is (49, 15)\n",
            "   \n",
            "data types of columns is Mar '19    object\n",
            "Mar '18    object\n",
            "Mar '17    object\n",
            "Mar '16    object\n",
            "Mar '15    object\n",
            "Mar '14    object\n",
            "Mar '13    object\n",
            "Mar '12    object\n",
            "Mar '11    object\n",
            "Mar '10    object\n",
            "Mar '09    object\n",
            "Mar '08    object\n",
            "Mar '07    object\n",
            "Mar '06    object\n",
            "Mar '05    object\n",
            "dtype: object\n",
            "   \n",
            "missing value in data is Mar '19    7\n",
            "Mar '18    7\n",
            "Mar '17    7\n",
            "Mar '16    7\n",
            "Mar '15    7\n",
            "Mar '14    7\n",
            "Mar '13    7\n",
            "Mar '12    7\n",
            "Mar '11    7\n",
            "Mar '10    7\n",
            "Mar '09    7\n",
            "Mar '08    7\n",
            "Mar '07    7\n",
            "Mar '06    7\n",
            "Mar '05    7\n",
            "dtype: int64\n"
          ],
          "name": "stdout"
        }
      ]
    },
    {
      "cell_type": "code",
      "metadata": {
        "id": "fOu_9SK-4ua3",
        "colab_type": "code",
        "colab": {}
      },
      "source": [
        "#replace the missing values with zeros\n",
        "\n",
        "data_maruti = data_maruti.fillna(0)"
      ],
      "execution_count": 0,
      "outputs": []
    },
    {
      "cell_type": "code",
      "metadata": {
        "id": "YX-HGmi36evd",
        "colab_type": "code",
        "colab": {}
      },
      "source": [
        "#replace the strings in the dataframe with zeros and convert the data into float type!\n",
        "\n",
        "data_maruti = data_maruti.replace(\"--\", 0)\n",
        "for i in data_maruti.columns:\n",
        "  data_maruti[i] = pd.to_numeric(data_maruti[i])"
      ],
      "execution_count": 0,
      "outputs": []
    },
    {
      "cell_type": "code",
      "metadata": {
        "id": "hOCFxbwP6_Ap",
        "colab_type": "code",
        "colab": {
          "base_uri": "https://localhost:8080/",
          "height": 283
        },
        "outputId": "34734f82-3997-4124-e04d-c4e17baa6dee"
      },
      "source": [
        "print(data_maruti.dtypes.to_string())"
      ],
      "execution_count": 10,
      "outputs": [
        {
          "output_type": "stream",
          "text": [
            "Mar '19    float64\n",
            "Mar '18    float64\n",
            "Mar '17    float64\n",
            "Mar '16    float64\n",
            "Mar '15    float64\n",
            "Mar '14    float64\n",
            "Mar '13    float64\n",
            "Mar '12    float64\n",
            "Mar '11    float64\n",
            "Mar '10    float64\n",
            "Mar '09    float64\n",
            "Mar '08    float64\n",
            "Mar '07    float64\n",
            "Mar '06    float64\n",
            "Mar '05    float64\n"
          ],
          "name": "stdout"
        }
      ]
    },
    {
      "cell_type": "code",
      "metadata": {
        "id": "EyyrIPgl7KhT",
        "colab_type": "code",
        "outputId": "52bb6aa5-0c0c-4a10-c65b-8c356f371978",
        "colab": {
          "base_uri": "https://localhost:8080/",
          "height": 161
        }
      },
      "source": [
        "print(data_maruti.head().to_string())"
      ],
      "execution_count": 11,
      "outputs": [
        {
          "output_type": "stream",
          "text": [
            "                                                    Mar '19  Mar '18  Mar '17  Mar '16   Mar '15   Mar '14   Mar '13   Mar '12   Mar '11   Mar '10   Mar '09   Mar '08   Mar '07  Mar '06   Mar '05\n",
            "Yearly Results of Maruti Suzuki India (in Rs. Cr.)                                                                                                                                                 \n",
            "Net Sales/Income from operations                    83026.5  78104.8  66909.4  56441.2  48605.53  42644.76  42612.56  34705.89  36299.74  29623.01  20852.52  17860.28  17205.88  14753.1  13343.06\n",
            "Other Operating Income                               2993.8   1657.9   1125.4   1096.9   1365.11   1055.87    975.37    881.20    740.35      0.00      0.00      0.00      0.00      0.0      0.00\n",
            "Total Income From Operations                        86020.3  79762.7  68034.8  57538.1  49970.64  43700.63  43587.93  35587.09  37040.09  29623.01  20852.52  17860.28  17205.88      0.0      0.00\n",
            "EXPENDITURE                                             0.0      0.0      0.0      0.0      0.00      0.00      0.00      0.00      0.00      0.00      0.00      0.00      0.00      0.0      0.00\n",
            "Consumption of Raw Materials                        45023.9  44941.3  42629.6  35483.9  32798.66  28864.58  30530.22  26664.28  27576.13  21701.73  15235.27  13161.35  10830.71   9440.3   8583.67\n"
          ],
          "name": "stdout"
        }
      ]
    },
    {
      "cell_type": "code",
      "metadata": {
        "id": "OF10havL7M4P",
        "colab_type": "code",
        "colab": {
          "base_uri": "https://localhost:8080/",
          "height": 301
        },
        "outputId": "a48e1bb3-b0da-4d63-b62e-22ca4a072795"
      },
      "source": [
        "data_maruti.isnull().sum()"
      ],
      "execution_count": 12,
      "outputs": [
        {
          "output_type": "execute_result",
          "data": {
            "text/plain": [
              "Mar '19    0\n",
              "Mar '18    0\n",
              "Mar '17    0\n",
              "Mar '16    0\n",
              "Mar '15    0\n",
              "Mar '14    0\n",
              "Mar '13    0\n",
              "Mar '12    0\n",
              "Mar '11    0\n",
              "Mar '10    0\n",
              "Mar '09    0\n",
              "Mar '08    0\n",
              "Mar '07    0\n",
              "Mar '06    0\n",
              "Mar '05    0\n",
              "dtype: int64"
            ]
          },
          "metadata": {
            "tags": []
          },
          "execution_count": 12
        }
      ]
    },
    {
      "cell_type": "code",
      "metadata": {
        "id": "lDH2mha5mj_2",
        "colab_type": "code",
        "colab": {}
      },
      "source": [
        "#compile a dataframe with the yearly percentage change for each item\n",
        "\n",
        "yearly_change = data_maruti.sort_index(axis=1, ascending=True).transpose().pct_change().T"
      ],
      "execution_count": 0,
      "outputs": []
    },
    {
      "cell_type": "code",
      "metadata": {
        "id": "pwVkb-pO22E7",
        "colab_type": "code",
        "outputId": "855fd51d-d7e2-47c0-d804-62568fb2a79f",
        "colab": {
          "base_uri": "https://localhost:8080/",
          "height": 194
        }
      },
      "source": [
        "print(yearly_change.head())\n",
        "print(yearly_change.shape)"
      ],
      "execution_count": 14,
      "outputs": [
        {
          "output_type": "stream",
          "text": [
            "                                                    Mar '05  ...   Mar '19\n",
            "Yearly Results of Maruti Suzuki India (in Rs. Cr.)           ...          \n",
            "Net Sales/Income from operations                        NaN  ...  0.063014\n",
            "Other Operating Income                                  NaN  ...  0.805778\n",
            "Total Income From Operations                            NaN  ...  0.078453\n",
            "EXPENDITURE                                             NaN  ...       NaN\n",
            "Consumption of Raw Materials                            NaN  ...  0.001838\n",
            "\n",
            "[5 rows x 15 columns]\n",
            "(49, 15)\n"
          ],
          "name": "stdout"
        }
      ]
    },
    {
      "cell_type": "code",
      "metadata": {
        "id": "y-7oLkLJ3DCu",
        "colab_type": "code",
        "outputId": "5ee1a278-73bb-484f-ab26-30537abf3023",
        "colab": {
          "base_uri": "https://localhost:8080/",
          "height": 161
        }
      },
      "source": [
        "print(yearly_change.head().to_string())"
      ],
      "execution_count": 15,
      "outputs": [
        {
          "output_type": "stream",
          "text": [
            "                                                    Mar '05   Mar '06   Mar '07   Mar '08   Mar '09   Mar '10   Mar '11   Mar '12   Mar '13   Mar '14   Mar '15   Mar '16   Mar '17   Mar '18   Mar '19\n",
            "Yearly Results of Maruti Suzuki India (in Rs. Cr.)                                                                                                                                                     \n",
            "Net Sales/Income from operations                        NaN  0.105676  0.166255  0.038034  0.167536  0.420596  0.225390 -0.043908  0.227819  0.000756  0.139777  0.161209  0.185471  0.167322  0.063014\n",
            "Other Operating Income                                  NaN       NaN       NaN       NaN       NaN       NaN       inf  0.190248  0.106866  0.082533  0.292877 -0.196475  0.025982  0.473165  0.805778\n",
            "Total Income From Operations                            NaN       NaN       inf  0.038034  0.167536  0.420596  0.250382 -0.039228  0.224824  0.002586  0.143476  0.151438  0.182430  0.172381  0.078453\n",
            "EXPENDITURE                                             NaN       NaN       NaN       NaN       NaN       NaN       NaN       NaN       NaN       NaN       NaN       NaN       NaN       NaN       NaN\n",
            "Consumption of Raw Materials                            NaN  0.099798  0.147285  0.215188  0.157577  0.424440  0.270688 -0.033067  0.144986 -0.054557  0.136294  0.081870  0.201379  0.054228  0.001838\n"
          ],
          "name": "stdout"
        }
      ]
    },
    {
      "cell_type": "code",
      "metadata": {
        "id": "xC7O1UJMOBoz",
        "colab_type": "code",
        "outputId": "e369733f-e3ff-494c-e14e-6e49daad3a82",
        "colab": {
          "base_uri": "https://localhost:8080/",
          "height": 923
        }
      },
      "source": [
        "import numpy as np\n",
        "\n",
        "prediction_growth_percentages = yearly_change.iloc[:,4:14]\n",
        "prediction_growth_percentages = prediction_growth_percentages.fillna(0)\n",
        "prediction_growth_percentages = prediction_growth_percentages.replace([np.inf, -np.inf],0)\n",
        "print(prediction_growth_percentages.to_string())"
      ],
      "execution_count": 16,
      "outputs": [
        {
          "output_type": "stream",
          "text": [
            "                                                                          Mar '09   Mar '10   Mar '11   Mar '12   Mar '13   Mar '14    Mar '15   Mar '16    Mar '17   Mar '18\n",
            "Yearly Results of Maruti Suzuki India (in Rs. Cr.)                                                                                                                           \n",
            "Net Sales/Income from operations                                         0.167536  0.420596  0.225390 -0.043908  0.227819  0.000756   0.139777  0.161209   0.185471  0.167322\n",
            "Other Operating Income                                                   0.000000  0.000000  0.000000  0.190248  0.106866  0.082533   0.292877 -0.196475   0.025982  0.473165\n",
            "Total Income From Operations                                             0.167536  0.420596  0.250382 -0.039228  0.224824  0.002586   0.143476  0.151438   0.182430  0.172381\n",
            "EXPENDITURE                                                              0.000000  0.000000  0.000000  0.000000  0.000000  0.000000   0.000000  0.000000   0.000000  0.000000\n",
            "Consumption of Raw Materials                                             0.157577  0.424440  0.270688 -0.033067  0.144986 -0.054557   0.136294  0.081870   0.201379  0.054228\n",
            "Purchase of Traded Goods                                                 0.000000  0.000000  0.000000  0.199022  0.279747  0.239730   0.096145  0.203141   0.397773  1.229535\n",
            "Increase/Decrease in Stocks                                             -1.966367 -1.685813 -0.689411  1.185043 -1.178596 -0.210414 -25.641081 -1.015136 -56.086957 -1.107077\n",
            "Power & Fuel                                                             0.000000  0.000000  0.000000  0.000000  0.000000  0.000000   0.000000  0.000000   0.000000  0.000000\n",
            "Employees Cost                                                           0.322692  0.158250  0.289532  0.199241  0.267548  0.279122   0.174284  0.231708   0.177987  0.215701\n",
            "Depreciation                                                             0.243536  0.167690  0.228455  0.123187  0.634972  0.119941   0.185152  0.141629  -0.077335  0.059875\n",
            "Excise Duty                                                              0.000000  0.000000  0.000000  0.000000  0.000000  0.000000   0.000000  0.000000   0.000000  0.000000\n",
            "Admin. And Selling Expenses                                              0.000000  0.000000  0.000000  0.000000  0.000000  0.000000   0.000000  0.000000   0.000000  0.000000\n",
            "R & D Expenses                                                           0.000000  0.000000  0.000000  0.000000  0.000000  0.000000   0.000000  0.000000   0.000000  0.000000\n",
            "Provisions And Contingencies                                             0.000000  0.000000  0.000000  0.000000  0.000000  0.000000   0.000000  0.000000   0.000000  0.000000\n",
            "Exp. Capitalised                                                         0.000000  0.000000  0.000000  0.000000  0.000000  0.000000   0.000000  0.000000   0.000000  0.000000\n",
            "Other Expenses                                                           0.229076  0.192080  0.072820  0.073981  0.386338  0.025690   0.121751  0.200865   0.080439  0.147717\n",
            "P/L Before Other Inc. , Int., Excpt. Items & Tax                        -0.296198  1.780288 -0.152885 -0.481472  0.723129  0.271479   0.408808  0.429346   0.278141  0.200325\n",
            "Other Income                                                            -0.375860 -0.173912 -0.029088  0.714375 -0.017524  0.012962   0.010548  0.756897   0.560438 -0.102772\n",
            "P/L Before Int., Excpt. Items & Tax                                     -0.326148  1.099782 -0.135926 -0.297387  0.444935  0.205456   0.323338  0.483026   0.332948  0.131436\n",
            "Interest                                                                -0.144918 -0.342880 -0.271343  1.261778  2.438145 -0.073596   0.171567 -0.604407   0.096933  2.866890\n",
            "P/L Before Exceptional Items & Tax                                      -0.330465  1.143668 -0.134663 -0.309629  0.393660  0.223165   0.330633  0.529046   0.335532  0.106837\n",
            "Exceptional Items                                                        0.000000  0.000000  0.000000  0.000000  0.000000  0.000000   0.000000  0.000000   0.000000  0.000000\n",
            "P/L Before Tax                                                          -0.330465  1.143668 -0.134663 -0.309629  0.393660  0.223165   0.330633  0.529046   0.335532  0.106837\n",
            "Tax                                                                     -0.401116  1.395131 -0.250980 -0.376852  0.171960  0.461790   0.321493  0.797265   0.252092  0.260409\n",
            "P/L After Tax from Ordinary Activities                                  -0.299466  1.049346 -0.083672 -0.285541  0.462951  0.163419   0.333508  0.445428   0.367877  0.052346\n",
            "Prior Year Adjustments                                                  -1.000000  0.000000  0.000000  0.000000  0.000000  0.000000   0.000000  0.000000   0.000000  0.000000\n",
            "Extra Ordinary Items                                                     0.000000  0.000000  0.000000  0.000000  0.000000  0.000000   0.000000  0.000000   0.000000  0.000000\n",
            "Net Profit/(Loss) For the Period                                        -0.299466  1.049346 -0.083672 -0.285541  0.462951  0.163419   0.333508  0.445428   0.367877  0.052346\n",
            "Equity Share Capital                                                     0.000000  0.000000  0.000277  0.000000  0.044983  0.000000   0.000000  0.000000   0.000000  0.000000\n",
            "Reserves Excluding Revaluation Reserves                                  0.112373  0.270666  0.173849  0.096182  0.225023  0.130188   0.130897  0.262385   0.220188  0.146808\n",
            "Equity Dividend Rate (%)                                                -0.300000 -1.000000  0.000000  0.000000  0.066667  0.500000   1.083333  0.400000   1.142857  0.066667\n",
            "EPS Before Extra Ordinary                                                0.000000  0.000000  0.000000  0.000000  0.000000  0.000000   0.000000  0.000000   0.000000  0.000000\n",
            "Basic EPS                                                                0.000000  0.000000  0.000000 -0.285534  0.399117  0.163404   0.333442  0.445503   0.367891  0.052324\n",
            "Diluted EPS                                                              0.000000  0.000000  0.000000 -0.285534  0.399117  0.163404   0.333442  0.445503   0.367891  0.052324\n",
            "EPS After Extra Ordinary                                                 0.000000  0.000000  0.000000  0.000000  0.000000  0.000000   0.000000  0.000000   0.000000  0.000000\n",
            "Basic EPS.                                                               0.000000  0.000000  0.000000 -0.285534  0.399117  0.163404   0.333442  0.445503   0.367891  0.052324\n",
            "Diluted EPS.                                                             0.000000  0.000000  0.000000 -0.285534  0.399117  0.163404   0.333442  0.445503   0.367891  0.052324\n",
            "Public Share Holding                                                     0.000000  0.000000  0.000000  0.000000  0.000000  0.000000   0.000000  0.000000   0.000000  0.000000\n",
            "No Of Shares (Crores)                                                    0.000000  0.000000  0.000000  0.000000  0.000000  0.000000   0.000000 -1.000000   0.000000  0.000000\n",
            "Share Holding (%)                                                        0.000000  0.000000  0.000000  0.000000 -0.043678  0.000000   0.000000 -1.000000   0.000000  0.000000\n",
            "Promoters and Promoter Group Shareholding                                0.000000  0.000000  0.000000  0.000000  0.000000  0.000000   0.000000  0.000000   0.000000  0.000000\n",
            "a) Pledged/Encumbered                                                    0.000000  0.000000  0.000000  0.000000  0.000000  0.000000   0.000000  0.000000   0.000000  0.000000\n",
            "- Number of shares (Crores)                                              0.000000  0.000000  0.000000  0.000000  0.000000  0.000000   0.000000  0.000000   0.000000  0.000000\n",
            "- Per. of shares (as a % of the total sh. of prom. and promoter group)   0.000000  0.000000  0.000000  0.000000  0.000000  0.000000   0.000000  0.000000   0.000000  0.000000\n",
            "- Per. of shares (as a % of the total Share Cap. of the company)         0.000000  0.000000  0.000000  0.000000  0.000000  0.000000   0.000000  0.000000   0.000000  0.000000\n",
            "b) Non-encumbered                                                        0.000000  0.000000  0.000000  0.000000  0.000000  0.000000   0.000000  0.000000   0.000000  0.000000\n",
            "- Number of shares (Crores).                                             0.000000  0.000000  0.000000  0.000000  0.084291  0.000000   0.000000 -1.000000   0.000000  0.000000\n",
            "- Per. of shares (as a % of the total sh. of prom. and promoter group).  0.000000  0.000000  0.000000  0.000000  0.000000  0.000000   0.000000 -1.000000   0.000000  0.000000\n",
            "- Per. of shares (as a % of the total Share Cap. of the company).        0.000000  0.000000  0.000000  0.000000  0.036894  0.000000   0.000000 -1.000000   0.000000  0.000000\n"
          ],
          "name": "stdout"
        }
      ]
    },
    {
      "cell_type": "markdown",
      "metadata": {
        "id": "9Tk_ydfC7WBv",
        "colab_type": "text"
      },
      "source": [
        "**Projections of Profit and Loss Account for the Years 2020 to 2029**\n",
        "\n",
        "Assuming the Business cycle repeating every ten years, the percentage increment of each item in the P & L for the years from 2009 to 2018 are taken as increments of respective items for the years 2020 to 2029 respectively.\n"
      ]
    },
    {
      "cell_type": "code",
      "metadata": {
        "id": "l4xiWdpf666l",
        "colab_type": "code",
        "outputId": "3ac998b1-e73d-47e2-f16a-edc36196106e",
        "colab": {
          "base_uri": "https://localhost:8080/",
          "height": 943
        }
      },
      "source": [
        "prediction_table = pd.DataFrame(data_maruti[\"Mar '19\"])\n",
        "\n",
        "\n",
        "prediction_table[\"Mar '20\"] = prediction_table[\"Mar '19\"]*(prediction_growth_percentages.iloc[:,0]+1)\n",
        "prediction_table[\"Mar '21\"] = prediction_table[\"Mar '20\"]*(prediction_growth_percentages.iloc[:,1]+1)\n",
        "prediction_table[\"Mar '22\"] = prediction_table[\"Mar '21\"]*(prediction_growth_percentages.iloc[:,2]+1)\n",
        "prediction_table[\"Mar '23\"] = prediction_table[\"Mar '22\"]*(prediction_growth_percentages.iloc[:,3]+1)\n",
        "prediction_table[\"Mar '24\"] = prediction_table[\"Mar '23\"]*(prediction_growth_percentages.iloc[:,4]+1)\n",
        "prediction_table[\"Mar '25\"] = prediction_table[\"Mar '24\"]*(prediction_growth_percentages.iloc[:,5]+1)\n",
        "prediction_table[\"Mar '26\"] = prediction_table[\"Mar '25\"]*(prediction_growth_percentages.iloc[:,6]+1)\n",
        "prediction_table[\"Mar '27\"] = prediction_table[\"Mar '26\"]*(prediction_growth_percentages.iloc[:,7]+1)\n",
        "prediction_table[\"Mar '28\"] = prediction_table[\"Mar '27\"]*(prediction_growth_percentages.iloc[:,8]+1)\n",
        "prediction_table[\"Mar '29\"] = prediction_table[\"Mar '28\"]*(prediction_growth_percentages.iloc[:,9]+1)\n",
        "\n",
        "print(prediction_table.to_string())\n"
      ],
      "execution_count": 17,
      "outputs": [
        {
          "output_type": "stream",
          "text": [
            "                                                                         Mar '19        Mar '20        Mar '21        Mar '22        Mar '23        Mar '24        Mar '25        Mar '26        Mar '27        Mar '28        Mar '29\n",
            "Yearly Results of Maruti Suzuki India (in Rs. Cr.)                                                                                                                                                                                    \n",
            "Net Sales/Income from operations                                         83026.5   96936.428308  137707.518570  168745.415140  161336.136728  198091.615184  198241.302272  225950.938986  262376.362062  311039.541323  363083.231461\n",
            "Other Operating Income                                                    2993.8    2993.800000    2993.800000    2993.800000    3563.364031    3944.165200    4269.688129    5520.181425    4435.603728    4550.850976    6704.154819\n",
            "Total Income From Operations                                             86020.3  100431.797607  142673.026800  178395.840033  171397.769684  209932.140760  210474.936719  240673.127409  277120.214433  327675.372751  384160.348147\n",
            "EXPENDITURE                                                                  0.0       0.000000       0.000000       0.000000       0.000000       0.000000       0.000000       0.000000       0.000000       0.000000       0.000000\n",
            "Consumption of Raw Materials                                             45023.9   52118.610397   74239.840240   94335.681333   91216.317193  104441.381185   98743.363216  112201.528565  121387.514595  145832.368825  153740.505121\n",
            "Purchase of Traded Goods                                                 15019.5   15019.500000   15019.500000   15019.500000   18008.711290   23046.586375   28571.539092   31318.562927   37680.654618   52669.014552  117427.425185\n",
            "Increase/Decrease in Stocks                                                210.8    -203.710217     139.707035      43.391498      94.812301     -16.933091     -13.370132     329.454498      -4.986698     274.702002     -29.414290\n",
            "Power & Fuel                                                                 0.0       0.000000       0.000000       0.000000       0.000000       0.000000       0.000000       0.000000       0.000000       0.000000       0.000000\n",
            "Employees Cost                                                            3254.9    4305.230349    4986.533120    6430.291830    7711.470039    9774.661368   12502.979669   14682.051873   18083.996294   21302.706368   25897.730290\n",
            "Depreciation                                                              3018.9    3754.111632    4383.640245    5385.105074    6048.479883    9889.093252   11075.197846   13125.788474   14984.778816   13825.931834   14653.755584\n",
            "Excise Duty                                                                  0.0       0.000000       0.000000       0.000000       0.000000       0.000000       0.000000       0.000000       0.000000       0.000000       0.000000\n",
            "Admin. And Selling Expenses                                                  0.0       0.000000       0.000000       0.000000       0.000000       0.000000       0.000000       0.000000       0.000000       0.000000       0.000000\n",
            "R & D Expenses                                                               0.0       0.000000       0.000000       0.000000       0.000000       0.000000       0.000000       0.000000       0.000000       0.000000       0.000000\n",
            "Provisions And Contingencies                                                 0.0       0.000000       0.000000       0.000000       0.000000       0.000000       0.000000       0.000000       0.000000       0.000000       0.000000\n",
            "Exp. Capitalised                                                             0.0       0.000000       0.000000       0.000000       0.000000       0.000000       0.000000       0.000000       0.000000       0.000000       0.000000\n",
            "Other Expenses                                                           11511.9   14149.005519   16866.743054   18094.981424   19433.668857   26941.638691   27633.776817   30998.203644   37224.647052   40218.950533   46159.962206\n",
            "P/L Before Other Inc. , Int., Excpt. Items & Tax                          7980.4    5616.620690   15615.824355   13228.391283    6859.291531   11819.445475   15028.173089   21171.813567   30261.844472   38678.890920   46427.244522\n",
            "Other Income                                                              2561.0    1598.422099    1320.437959    1282.028408    2197.876903    2159.361028    2187.350826    2210.423137    3883.484696    6059.937310    5437.144384\n",
            "P/L Before Int., Excpt. Items & Tax                                      10541.4    7103.342219   14915.472005   12888.078771    9055.336021   13084.372327   15772.631503   20872.520733   30954.490153   41260.724549   46683.889358\n",
            "Interest                                                                    75.8      64.815230      42.591412      31.034519      70.193190     241.334384     223.573130     261.930829     103.617913     113.661858     439.517947\n",
            "P/L Before Exceptional Items & Tax                                       10465.6    7007.087245   15020.867329   12998.115899    8973.518733   12506.037648   15296.947938   20354.620930   31123.144452   41565.957244   46006.744987\n",
            "Exceptional Items                                                            0.0       0.000000       0.000000       0.000000       0.000000       0.000000       0.000000       0.000000       0.000000       0.000000       0.000000\n",
            "P/L Before Tax                                                           10465.6    7007.087245   15020.867329   12998.115899    8973.518733   12506.037648   15296.947938   20354.620930   31123.144452   41565.957244   46006.744987\n",
            "Tax                                                                       2965.0    1775.690536    4253.010729    3185.592085    1985.095700    2326.452143    3400.784926    4494.112168    8077.111827   10113.286695   12746.874181\n",
            "P/L After Tax from Ordinary Activities                                    7500.6    5254.425252   10768.135614    9867.147882    7049.674998   10313.330389   11998.726716   16000.400483   23127.421255   31635.456433   33291.449294\n",
            "Prior Year Adjustments                                                       0.0       0.000000       0.000000       0.000000       0.000000       0.000000       0.000000       0.000000       0.000000       0.000000       0.000000\n",
            "Extra Ordinary Items                                                         0.0       0.000000       0.000000       0.000000       0.000000       0.000000       0.000000       0.000000       0.000000       0.000000       0.000000\n",
            "Net Profit/(Loss) For the Period                                          7500.6    5254.425252   10768.135614    9867.147882    7049.674998   10313.330389   11998.726716   16000.400483   23127.421255   31635.456433   33291.449294\n",
            "Equity Share Capital                                                       151.0     151.000000     151.000000     151.041811     151.041811     157.836079     157.836079     157.836079     157.836079     157.836079     157.836079\n",
            "Reserves Excluding Revaluation Reserves                                  45990.5   51158.588562   65005.493850   76306.638846   83645.932923  102468.200102  115808.377706  130967.392412  165331.236184  201735.224660  231351.519918\n",
            "Equity Dividend Rate (%)                                                  1600.0    1120.000000       0.000000       0.000000       0.000000       0.000000       0.000000       0.000000       0.000000       0.000000       0.000000\n",
            "EPS Before Extra Ordinary                                                    0.0       0.000000       0.000000       0.000000       0.000000       0.000000       0.000000       0.000000       0.000000       0.000000       0.000000\n",
            "Basic EPS                                                                  248.3     248.300000     248.300000     248.300000     177.401919     248.205971     288.763936     385.049924     556.590684     761.355125     801.192199\n",
            "Diluted EPS                                                                248.3     248.300000     248.300000     248.300000     177.401919     248.205971     288.763936     385.049924     556.590684     761.355125     801.192199\n",
            "EPS After Extra Ordinary                                                     0.0       0.000000       0.000000       0.000000       0.000000       0.000000       0.000000       0.000000       0.000000       0.000000       0.000000\n",
            "Basic EPS.                                                                 248.3     248.300000     248.300000     248.300000     177.401919     248.205971     288.763936     385.049924     556.590684     761.355125     801.192199\n",
            "Diluted EPS.                                                               248.3     248.300000     248.300000     248.300000     177.401919     248.205971     288.763936     385.049924     556.590684     761.355125     801.192199\n",
            "Public Share Holding                                                         0.0       0.000000       0.000000       0.000000       0.000000       0.000000       0.000000       0.000000       0.000000       0.000000       0.000000\n",
            "No Of Shares (Crores)                                                        0.0       0.000000       0.000000       0.000000       0.000000       0.000000       0.000000       0.000000       0.000000       0.000000       0.000000\n",
            "Share Holding (%)                                                            0.0       0.000000       0.000000       0.000000       0.000000       0.000000       0.000000       0.000000       0.000000       0.000000       0.000000\n",
            "Promoters and Promoter Group Shareholding                                    0.0       0.000000       0.000000       0.000000       0.000000       0.000000       0.000000       0.000000       0.000000       0.000000       0.000000\n",
            "a) Pledged/Encumbered                                                        0.0       0.000000       0.000000       0.000000       0.000000       0.000000       0.000000       0.000000       0.000000       0.000000       0.000000\n",
            "- Number of shares (Crores)                                                  0.0       0.000000       0.000000       0.000000       0.000000       0.000000       0.000000       0.000000       0.000000       0.000000       0.000000\n",
            "- Per. of shares (as a % of the total sh. of prom. and promoter group)       0.0       0.000000       0.000000       0.000000       0.000000       0.000000       0.000000       0.000000       0.000000       0.000000       0.000000\n",
            "- Per. of shares (as a % of the total Share Cap. of the company)             0.0       0.000000       0.000000       0.000000       0.000000       0.000000       0.000000       0.000000       0.000000       0.000000       0.000000\n",
            "b) Non-encumbered                                                            0.0       0.000000       0.000000       0.000000       0.000000       0.000000       0.000000       0.000000       0.000000       0.000000       0.000000\n",
            "- Number of shares (Crores).                                                 0.0       0.000000       0.000000       0.000000       0.000000       0.000000       0.000000       0.000000       0.000000       0.000000       0.000000\n",
            "- Per. of shares (as a % of the total sh. of prom. and promoter group).      0.0       0.000000       0.000000       0.000000       0.000000       0.000000       0.000000       0.000000       0.000000       0.000000       0.000000\n",
            "- Per. of shares (as a % of the total Share Cap. of the company).            0.0       0.000000       0.000000       0.000000       0.000000       0.000000       0.000000       0.000000       0.000000       0.000000       0.000000\n"
          ],
          "name": "stdout"
        }
      ]
    },
    {
      "cell_type": "code",
      "metadata": {
        "id": "41IuqVgYSlVX",
        "colab_type": "code",
        "outputId": "6b14976e-375b-4dc9-a756-7ffefa893efe",
        "colab": {
          "base_uri": "https://localhost:8080/",
          "height": 887
        }
      },
      "source": [
        "data_maruti.index.tolist()"
      ],
      "execution_count": 18,
      "outputs": [
        {
          "output_type": "execute_result",
          "data": {
            "text/plain": [
              "['Net Sales/Income from operations',\n",
              " 'Other Operating Income',\n",
              " 'Total Income From Operations',\n",
              " 'EXPENDITURE',\n",
              " 'Consumption of Raw Materials',\n",
              " 'Purchase of Traded Goods',\n",
              " 'Increase/Decrease in Stocks',\n",
              " 'Power & Fuel',\n",
              " 'Employees Cost',\n",
              " 'Depreciation',\n",
              " 'Excise Duty',\n",
              " 'Admin. And Selling Expenses',\n",
              " 'R & D Expenses',\n",
              " 'Provisions And Contingencies',\n",
              " 'Exp. Capitalised',\n",
              " 'Other Expenses',\n",
              " 'P/L Before Other Inc. , Int., Excpt. Items & Tax',\n",
              " 'Other Income',\n",
              " 'P/L Before Int., Excpt. Items & Tax',\n",
              " 'Interest',\n",
              " 'P/L Before Exceptional Items & Tax',\n",
              " 'Exceptional Items',\n",
              " 'P/L Before Tax',\n",
              " 'Tax',\n",
              " 'P/L After Tax from Ordinary Activities',\n",
              " 'Prior Year Adjustments',\n",
              " 'Extra Ordinary Items',\n",
              " 'Net Profit/(Loss) For the Period',\n",
              " 'Equity Share Capital',\n",
              " 'Reserves Excluding Revaluation Reserves',\n",
              " 'Equity Dividend Rate (%)',\n",
              " 'EPS Before Extra Ordinary',\n",
              " 'Basic EPS',\n",
              " 'Diluted EPS',\n",
              " 'EPS After Extra Ordinary',\n",
              " 'Basic EPS.',\n",
              " 'Diluted EPS.',\n",
              " 'Public Share Holding',\n",
              " 'No Of Shares (Crores)',\n",
              " 'Share Holding (%)',\n",
              " 'Promoters and Promoter Group Shareholding',\n",
              " 'a) Pledged/Encumbered',\n",
              " '- Number of shares (Crores)',\n",
              " '- Per. of shares (as a % of the total sh. of prom. and promoter group)',\n",
              " '- Per. of shares (as a % of the total Share Cap. of the company)',\n",
              " 'b) Non-encumbered',\n",
              " '- Number of shares (Crores).',\n",
              " '- Per. of shares (as a % of the total sh. of prom. and promoter group).',\n",
              " '- Per. of shares (as a % of the total Share Cap. of the company).']"
            ]
          },
          "metadata": {
            "tags": []
          },
          "execution_count": 18
        }
      ]
    },
    {
      "cell_type": "markdown",
      "metadata": {
        "id": "AC0y4TcKSj7a",
        "colab_type": "text"
      },
      "source": [
        ""
      ]
    },
    {
      "cell_type": "code",
      "metadata": {
        "id": "xw9-kcYXKJkg",
        "colab_type": "code",
        "colab": {}
      },
      "source": [
        "items_Dictionary = {'Net Sales/Income from operations': \"Income\",\n",
        " 'Other Operating Income':\"Income\",\n",
        " 'Total Income From Operations':\"Info_Item\",\n",
        " 'EXPENDITURE': \"Info_Item\",\n",
        " 'Consumption of Raw Materials':\"Expense\",\n",
        " 'Purchase of Traded Goods':\"Expense\",\n",
        " 'Increase/Decrease in Stocks':\"Expense\",\n",
        " 'Power & Fuel':\"Expense\",\n",
        " 'Employees Cost':\"Expense\",\n",
        " 'Depreciation':\"Expense\",\n",
        " 'Excise Duty':\"Expense\",\n",
        " 'Admin. And Selling Expenses':\"Expense\",\n",
        " 'R & D Expenses':\"Expense\",\n",
        " 'Provisions And Contingencies':\"Expense\",\n",
        " 'Exp. Capitalised':\"Expense\",\n",
        " 'Other Expenses':\"Expense\",\n",
        " 'P/L Before Other Inc. , Int., Excpt. Items & Tax':\"Info_Item\",\n",
        " 'Other Income':\"Income\",\n",
        " 'P/L Before Int., Excpt. Items & Tax':\"Info_Item\",\n",
        " 'Interest':\"Expense\",\n",
        " 'P/L Before Exceptional Items & Tax':\"Info_Item\",\n",
        " 'Exceptional Items':\"Expense\",\n",
        " 'P/L Before Tax':\"Info_Item\",\n",
        " 'Tax':\"Info_Item\",\n",
        " 'P/L After Tax from Ordinary Activities':\"Info_Item\",\n",
        " 'Prior Year Adjustments':\"Expense\",\n",
        " 'Extra Ordinary Items':\"Expense\",\n",
        " 'Net Profit/(Loss) For the Period':\"Info_Item\",\n",
        " 'Equity Share Capital':\"Info_Item\",\n",
        " 'Reserves Excluding Revaluation Reserves':\"Info_Item\",\n",
        " 'Equity Dividend Rate (%)':\"Info_Item\",\n",
        " 'EPS Before Extra Ordinary':\"Info_Item\",\n",
        " 'Basic EPS':\"Info_Item\",\n",
        " 'Diluted EPS':\"Info_Item\",\n",
        " 'EPS After Extra Ordinary':\"Info_Item\",\n",
        " 'Basic EPS.':\"Info_Item\",\n",
        " 'Diluted EPS.':\"Info_Item\",\n",
        " 'Public Share Holding':\"Info_Item\",\n",
        " 'No Of Shares (Crores)':\"Info_Item\",\n",
        " 'Share Holding (%)':\"Info_Item\",\n",
        " 'Promoters and Promoter Group Shareholding':\"Info_Item\",\n",
        " 'a) Pledged/Encumbered':\"Info_Item\",\n",
        " '- Number of shares (Crores)':\"Info_Item\",\n",
        " '- Per. of shares (as a % of the total sh. of prom. and promoter group)':\"Info_Item\",\n",
        " '- Per. of shares (as a % of the total Share Cap. of the company)':\"Info_Item\",\n",
        " 'b) Non-encumbered':\"Info_Item\",\n",
        " '- Number of shares (Crores).':\"Info_Item\",\n",
        " '- Per. of shares (as a % of the total sh. of prom. and promoter group).':\"Info_Item\",\n",
        " '- Per. of shares (as a % of the total Share Cap. of the company).':\"Info_Item\"}"
      ],
      "execution_count": 0,
      "outputs": []
    },
    {
      "cell_type": "code",
      "metadata": {
        "id": "-BqHkRuSWj-n",
        "colab_type": "code",
        "outputId": "6508e971-ffa0-4a27-8d6c-fbdcca7665a8",
        "colab": {
          "base_uri": "https://localhost:8080/",
          "height": 161
        }
      },
      "source": [
        "prediction_table[\"Particulars\"] = prediction_table.index\n",
        "print(prediction_table.head().to_string())"
      ],
      "execution_count": 20,
      "outputs": [
        {
          "output_type": "stream",
          "text": [
            "                                                    Mar '19        Mar '20       Mar '21        Mar '22        Mar '23        Mar '24        Mar '25        Mar '26        Mar '27        Mar '28        Mar '29                       Particulars\n",
            "Yearly Results of Maruti Suzuki India (in Rs. Cr.)                                                                                                                                                                                                \n",
            "Net Sales/Income from operations                    83026.5   96936.428308  137707.51857  168745.415140  161336.136728  198091.615184  198241.302272  225950.938986  262376.362062  311039.541323  363083.231461  Net Sales/Income from operations\n",
            "Other Operating Income                               2993.8    2993.800000    2993.80000    2993.800000    3563.364031    3944.165200    4269.688129    5520.181425    4435.603728    4550.850976    6704.154819            Other Operating Income\n",
            "Total Income From Operations                        86020.3  100431.797607  142673.02680  178395.840033  171397.769684  209932.140760  210474.936719  240673.127409  277120.214433  327675.372751  384160.348147      Total Income From Operations\n",
            "EXPENDITURE                                             0.0       0.000000       0.00000       0.000000       0.000000       0.000000       0.000000       0.000000       0.000000       0.000000       0.000000                       EXPENDITURE\n",
            "Consumption of Raw Materials                        45023.9   52118.610397   74239.84024   94335.681333   91216.317193  104441.381185   98743.363216  112201.528565  121387.514595  145832.368825  153740.505121      Consumption of Raw Materials\n"
          ],
          "name": "stdout"
        }
      ]
    },
    {
      "cell_type": "code",
      "metadata": {
        "id": "t0Up6-o5XjkB",
        "colab_type": "code",
        "outputId": "4dca74f6-3f97-4304-bbad-c08ee838dcdc",
        "colab": {
          "base_uri": "https://localhost:8080/",
          "height": 161
        }
      },
      "source": [
        "prediction_table[\"category\"] = prediction_table[\"Particulars\"].map(items_Dictionary)\n",
        "print(prediction_table.head().to_string())"
      ],
      "execution_count": 21,
      "outputs": [
        {
          "output_type": "stream",
          "text": [
            "                                                    Mar '19        Mar '20       Mar '21        Mar '22        Mar '23        Mar '24        Mar '25        Mar '26        Mar '27        Mar '28        Mar '29                       Particulars   category\n",
            "Yearly Results of Maruti Suzuki India (in Rs. Cr.)                                                                                                                                                                                                           \n",
            "Net Sales/Income from operations                    83026.5   96936.428308  137707.51857  168745.415140  161336.136728  198091.615184  198241.302272  225950.938986  262376.362062  311039.541323  363083.231461  Net Sales/Income from operations     Income\n",
            "Other Operating Income                               2993.8    2993.800000    2993.80000    2993.800000    3563.364031    3944.165200    4269.688129    5520.181425    4435.603728    4550.850976    6704.154819            Other Operating Income     Income\n",
            "Total Income From Operations                        86020.3  100431.797607  142673.02680  178395.840033  171397.769684  209932.140760  210474.936719  240673.127409  277120.214433  327675.372751  384160.348147      Total Income From Operations  Info_Item\n",
            "EXPENDITURE                                             0.0       0.000000       0.00000       0.000000       0.000000       0.000000       0.000000       0.000000       0.000000       0.000000       0.000000                       EXPENDITURE  Info_Item\n",
            "Consumption of Raw Materials                        45023.9   52118.610397   74239.84024   94335.681333   91216.317193  104441.381185   98743.363216  112201.528565  121387.514595  145832.368825  153740.505121      Consumption of Raw Materials    Expense\n"
          ],
          "name": "stdout"
        }
      ]
    },
    {
      "cell_type": "code",
      "metadata": {
        "id": "TCmaNnemar9i",
        "colab_type": "code",
        "outputId": "5ac52475-f5c4-49b8-bb25-2de2c6c0c2d4",
        "colab": {
          "base_uri": "https://localhost:8080/",
          "height": 356
        }
      },
      "source": [
        "print(prediction_table[prediction_table[\"category\"]==\"Expense\"].to_string())"
      ],
      "execution_count": 22,
      "outputs": [
        {
          "output_type": "stream",
          "text": [
            "                                                    Mar '19       Mar '20       Mar '21       Mar '22       Mar '23        Mar '24       Mar '25        Mar '26        Mar '27        Mar '28        Mar '29                   Particulars category\n",
            "Yearly Results of Maruti Suzuki India (in Rs. Cr.)                                                                                                                                                                                                 \n",
            "Consumption of Raw Materials                        45023.9  52118.610397  74239.840240  94335.681333  91216.317193  104441.381185  98743.363216  112201.528565  121387.514595  145832.368825  153740.505121  Consumption of Raw Materials  Expense\n",
            "Purchase of Traded Goods                            15019.5  15019.500000  15019.500000  15019.500000  18008.711290   23046.586375  28571.539092   31318.562927   37680.654618   52669.014552  117427.425185      Purchase of Traded Goods  Expense\n",
            "Increase/Decrease in Stocks                           210.8   -203.710217    139.707035     43.391498     94.812301     -16.933091    -13.370132     329.454498      -4.986698     274.702002     -29.414290   Increase/Decrease in Stocks  Expense\n",
            "Power & Fuel                                            0.0      0.000000      0.000000      0.000000      0.000000       0.000000      0.000000       0.000000       0.000000       0.000000       0.000000                  Power & Fuel  Expense\n",
            "Employees Cost                                       3254.9   4305.230349   4986.533120   6430.291830   7711.470039    9774.661368  12502.979669   14682.051873   18083.996294   21302.706368   25897.730290                Employees Cost  Expense\n",
            "Depreciation                                         3018.9   3754.111632   4383.640245   5385.105074   6048.479883    9889.093252  11075.197846   13125.788474   14984.778816   13825.931834   14653.755584                  Depreciation  Expense\n",
            "Excise Duty                                             0.0      0.000000      0.000000      0.000000      0.000000       0.000000      0.000000       0.000000       0.000000       0.000000       0.000000                   Excise Duty  Expense\n",
            "Admin. And Selling Expenses                             0.0      0.000000      0.000000      0.000000      0.000000       0.000000      0.000000       0.000000       0.000000       0.000000       0.000000   Admin. And Selling Expenses  Expense\n",
            "R & D Expenses                                          0.0      0.000000      0.000000      0.000000      0.000000       0.000000      0.000000       0.000000       0.000000       0.000000       0.000000                R & D Expenses  Expense\n",
            "Provisions And Contingencies                            0.0      0.000000      0.000000      0.000000      0.000000       0.000000      0.000000       0.000000       0.000000       0.000000       0.000000  Provisions And Contingencies  Expense\n",
            "Exp. Capitalised                                        0.0      0.000000      0.000000      0.000000      0.000000       0.000000      0.000000       0.000000       0.000000       0.000000       0.000000              Exp. Capitalised  Expense\n",
            "Other Expenses                                      11511.9  14149.005519  16866.743054  18094.981424  19433.668857   26941.638691  27633.776817   30998.203644   37224.647052   40218.950533   46159.962206                Other Expenses  Expense\n",
            "Interest                                               75.8     64.815230     42.591412     31.034519     70.193190     241.334384    223.573130     261.930829     103.617913     113.661858     439.517947                      Interest  Expense\n",
            "Exceptional Items                                       0.0      0.000000      0.000000      0.000000      0.000000       0.000000      0.000000       0.000000       0.000000       0.000000       0.000000             Exceptional Items  Expense\n",
            "Prior Year Adjustments                                  0.0      0.000000      0.000000      0.000000      0.000000       0.000000      0.000000       0.000000       0.000000       0.000000       0.000000        Prior Year Adjustments  Expense\n",
            "Extra Ordinary Items                                    0.0      0.000000      0.000000      0.000000      0.000000       0.000000      0.000000       0.000000       0.000000       0.000000       0.000000          Extra Ordinary Items  Expense\n"
          ],
          "name": "stdout"
        }
      ]
    },
    {
      "cell_type": "code",
      "metadata": {
        "id": "2vRDGEhrbaej",
        "colab_type": "code",
        "outputId": "83d703ac-8ae2-484b-ba2a-e0ff547e9587",
        "colab": {
          "base_uri": "https://localhost:8080/",
          "height": 125
        }
      },
      "source": [
        "print(prediction_table[prediction_table[\"category\"]==\"Income\"].to_string())"
      ],
      "execution_count": 23,
      "outputs": [
        {
          "output_type": "stream",
          "text": [
            "                                                    Mar '19       Mar '20        Mar '21        Mar '22        Mar '23        Mar '24        Mar '25        Mar '26        Mar '27        Mar '28        Mar '29                       Particulars category\n",
            "Yearly Results of Maruti Suzuki India (in Rs. Cr.)                                                                                                                                                                                                         \n",
            "Net Sales/Income from operations                    83026.5  96936.428308  137707.518570  168745.415140  161336.136728  198091.615184  198241.302272  225950.938986  262376.362062  311039.541323  363083.231461  Net Sales/Income from operations   Income\n",
            "Other Operating Income                               2993.8   2993.800000    2993.800000    2993.800000    3563.364031    3944.165200    4269.688129    5520.181425    4435.603728    4550.850976    6704.154819            Other Operating Income   Income\n",
            "Other Income                                         2561.0   1598.422099    1320.437959    1282.028408    2197.876903    2159.361028    2187.350826    2210.423137    3883.484696    6059.937310    5437.144384                      Other Income   Income\n"
          ],
          "name": "stdout"
        }
      ]
    },
    {
      "cell_type": "markdown",
      "metadata": {
        "id": "cjQ9PibI9B87",
        "colab_type": "text"
      },
      "source": [
        "**Projection of Profit/Loss , EPS and Market price of Share based on PE Ratio.**"
      ]
    },
    {
      "cell_type": "code",
      "metadata": {
        "id": "PKWyMevQh_4R",
        "colab_type": "code",
        "colab": {}
      },
      "source": [
        "profit_calc = pd.DataFrame(prediction_table[prediction_table[\"category\"]==\"Income\"].sum())\n",
        "profit_calc[\"Expenses\"] = pd.DataFrame(prediction_table[prediction_table[\"category\"]==\"Expense\"].sum())\n",
        "profit_calc.columns = [\"Income\",\"Expenses\"]\n",
        "profit_calc = profit_calc.iloc[0:11,:]\n",
        "profit_calc[\"Profit before Tax\"] = profit_calc[\"Income\"]-profit_calc[\"Expenses\"]\n",
        "profit_calc[\"Tax\"] = profit_calc[\"Profit before Tax\"]*( 2965.0/10645.6 )\n",
        "profit_calc[\"Profit after Tax\"] = profit_calc[\"Profit before Tax\"] - profit_calc[\"Tax\"]\n",
        "profit_calc[\"EPS\"] = profit_calc[\"Profit after Tax\"]/(302080000/10000000)"
      ],
      "execution_count": 0,
      "outputs": []
    },
    {
      "cell_type": "code",
      "metadata": {
        "id": "eiTuqskWiOqw",
        "colab_type": "code",
        "outputId": "1ed66c52-7811-4803-89fc-14f93c763706",
        "colab": {
          "base_uri": "https://localhost:8080/",
          "height": 377
        }
      },
      "source": [
        "profit_calc"
      ],
      "execution_count": 25,
      "outputs": [
        {
          "output_type": "execute_result",
          "data": {
            "text/html": [
              "<div>\n",
              "<style scoped>\n",
              "    .dataframe tbody tr th:only-of-type {\n",
              "        vertical-align: middle;\n",
              "    }\n",
              "\n",
              "    .dataframe tbody tr th {\n",
              "        vertical-align: top;\n",
              "    }\n",
              "\n",
              "    .dataframe thead th {\n",
              "        text-align: right;\n",
              "    }\n",
              "</style>\n",
              "<table border=\"1\" class=\"dataframe\">\n",
              "  <thead>\n",
              "    <tr style=\"text-align: right;\">\n",
              "      <th></th>\n",
              "      <th>Income</th>\n",
              "      <th>Expenses</th>\n",
              "      <th>Profit before Tax</th>\n",
              "      <th>Tax</th>\n",
              "      <th>Profit after Tax</th>\n",
              "      <th>EPS</th>\n",
              "    </tr>\n",
              "  </thead>\n",
              "  <tbody>\n",
              "    <tr>\n",
              "      <th>Mar '19</th>\n",
              "      <td>88581.3</td>\n",
              "      <td>78115.7</td>\n",
              "      <td>10465.6</td>\n",
              "      <td>2914.87</td>\n",
              "      <td>7550.73</td>\n",
              "      <td>249.958</td>\n",
              "    </tr>\n",
              "    <tr>\n",
              "      <th>Mar '20</th>\n",
              "      <td>101529</td>\n",
              "      <td>89207.6</td>\n",
              "      <td>12321.1</td>\n",
              "      <td>3431.65</td>\n",
              "      <td>8889.43</td>\n",
              "      <td>294.274</td>\n",
              "    </tr>\n",
              "    <tr>\n",
              "      <th>Mar '21</th>\n",
              "      <td>142022</td>\n",
              "      <td>115679</td>\n",
              "      <td>26343.2</td>\n",
              "      <td>7337.08</td>\n",
              "      <td>19006.1</td>\n",
              "      <td>629.175</td>\n",
              "    </tr>\n",
              "    <tr>\n",
              "      <th>Mar '22</th>\n",
              "      <td>173021</td>\n",
              "      <td>139340</td>\n",
              "      <td>33681.3</td>\n",
              "      <td>9380.86</td>\n",
              "      <td>24300.4</td>\n",
              "      <td>804.436</td>\n",
              "    </tr>\n",
              "    <tr>\n",
              "      <th>Mar '23</th>\n",
              "      <td>167097</td>\n",
              "      <td>142584</td>\n",
              "      <td>24513.7</td>\n",
              "      <td>6827.53</td>\n",
              "      <td>17686.2</td>\n",
              "      <td>585.48</td>\n",
              "    </tr>\n",
              "    <tr>\n",
              "      <th>Mar '24</th>\n",
              "      <td>204195</td>\n",
              "      <td>174318</td>\n",
              "      <td>29877.4</td>\n",
              "      <td>8321.41</td>\n",
              "      <td>21556</td>\n",
              "      <td>713.585</td>\n",
              "    </tr>\n",
              "    <tr>\n",
              "      <th>Mar '25</th>\n",
              "      <td>204698</td>\n",
              "      <td>178737</td>\n",
              "      <td>25961.3</td>\n",
              "      <td>7230.71</td>\n",
              "      <td>18730.6</td>\n",
              "      <td>620.053</td>\n",
              "    </tr>\n",
              "    <tr>\n",
              "      <th>Mar '26</th>\n",
              "      <td>233682</td>\n",
              "      <td>202918</td>\n",
              "      <td>30764</td>\n",
              "      <td>8568.36</td>\n",
              "      <td>22195.7</td>\n",
              "      <td>734.761</td>\n",
              "    </tr>\n",
              "    <tr>\n",
              "      <th>Mar '27</th>\n",
              "      <td>270695</td>\n",
              "      <td>229460</td>\n",
              "      <td>41235.2</td>\n",
              "      <td>11484.8</td>\n",
              "      <td>29750.4</td>\n",
              "      <td>984.853</td>\n",
              "    </tr>\n",
              "    <tr>\n",
              "      <th>Mar '28</th>\n",
              "      <td>321650</td>\n",
              "      <td>274237</td>\n",
              "      <td>47413</td>\n",
              "      <td>13205.4</td>\n",
              "      <td>34207.6</td>\n",
              "      <td>1132.4</td>\n",
              "    </tr>\n",
              "    <tr>\n",
              "      <th>Mar '29</th>\n",
              "      <td>375225</td>\n",
              "      <td>358289</td>\n",
              "      <td>16935</td>\n",
              "      <td>4716.73</td>\n",
              "      <td>12218.3</td>\n",
              "      <td>404.473</td>\n",
              "    </tr>\n",
              "  </tbody>\n",
              "</table>\n",
              "</div>"
            ],
            "text/plain": [
              "          Income Expenses Profit before Tax      Tax Profit after Tax      EPS\n",
              "Mar '19  88581.3  78115.7           10465.6  2914.87          7550.73  249.958\n",
              "Mar '20   101529  89207.6           12321.1  3431.65          8889.43  294.274\n",
              "Mar '21   142022   115679           26343.2  7337.08          19006.1  629.175\n",
              "Mar '22   173021   139340           33681.3  9380.86          24300.4  804.436\n",
              "Mar '23   167097   142584           24513.7  6827.53          17686.2   585.48\n",
              "Mar '24   204195   174318           29877.4  8321.41            21556  713.585\n",
              "Mar '25   204698   178737           25961.3  7230.71          18730.6  620.053\n",
              "Mar '26   233682   202918             30764  8568.36          22195.7  734.761\n",
              "Mar '27   270695   229460           41235.2  11484.8          29750.4  984.853\n",
              "Mar '28   321650   274237             47413  13205.4          34207.6   1132.4\n",
              "Mar '29   375225   358289             16935  4716.73          12218.3  404.473"
            ]
          },
          "metadata": {
            "tags": []
          },
          "execution_count": 25
        }
      ]
    },
    {
      "cell_type": "code",
      "metadata": {
        "id": "Ykpn23wBol1H",
        "colab_type": "code",
        "colab": {}
      },
      "source": [
        "pe_ratio = 6672.55/data_maruti.T[\"Basic EPS\"][0]"
      ],
      "execution_count": 0,
      "outputs": []
    },
    {
      "cell_type": "code",
      "metadata": {
        "id": "GgsbL27gti2v",
        "colab_type": "code",
        "outputId": "ba8dca98-6014-4778-94d9-f79ab437f59f",
        "colab": {
          "base_uri": "https://localhost:8080/",
          "height": 34
        }
      },
      "source": [
        "pe_ratio"
      ],
      "execution_count": 27,
      "outputs": [
        {
          "output_type": "execute_result",
          "data": {
            "text/plain": [
              "26.872935964559"
            ]
          },
          "metadata": {
            "tags": []
          },
          "execution_count": 27
        }
      ]
    },
    {
      "cell_type": "code",
      "metadata": {
        "id": "GZHqiyCuwwNI",
        "colab_type": "code",
        "outputId": "d5b2a011-1d81-4989-bd56-ef1116d4f828",
        "colab": {
          "base_uri": "https://localhost:8080/",
          "height": 265
        }
      },
      "source": [
        "profit_calc[\"Market_Price\"] = profit_calc[\"EPS\"]*pe_ratio\n",
        "print(\"Projections of EPS and Market Price of Share\")\n",
        "print(\"    \")\n",
        "print(profit_calc.to_string())"
      ],
      "execution_count": 28,
      "outputs": [
        {
          "output_type": "stream",
          "text": [
            "Projections of EPS and Market Price of Share\n",
            "    \n",
            "          Income Expenses Profit before Tax      Tax Profit after Tax      EPS Market_Price\n",
            "Mar '19  88581.3  78115.7           10465.6  2914.87          7550.73  249.958      6717.11\n",
            "Mar '20   101529  89207.6           12321.1  3431.65          8889.43  294.274      7908.01\n",
            "Mar '21   142022   115679           26343.2  7337.08          19006.1  629.175      16907.8\n",
            "Mar '22   173021   139340           33681.3  9380.86          24300.4  804.436      21617.5\n",
            "Mar '23   167097   142584           24513.7  6827.53          17686.2   585.48      15733.6\n",
            "Mar '24   204195   174318           29877.4  8321.41            21556  713.585      19176.1\n",
            "Mar '25   204698   178737           25961.3  7230.71          18730.6  620.053      16662.7\n",
            "Mar '26   233682   202918             30764  8568.36          22195.7  734.761      19745.2\n",
            "Mar '27   270695   229460           41235.2  11484.8          29750.4  984.853      26465.9\n",
            "Mar '28   321650   274237             47413  13205.4          34207.6   1132.4        30431\n",
            "Mar '29   375225   358289             16935  4716.73          12218.3  404.473      10869.4\n"
          ],
          "name": "stdout"
        }
      ]
    },
    {
      "cell_type": "code",
      "metadata": {
        "id": "odJ1JhmbxJr5",
        "colab_type": "code",
        "colab": {
          "base_uri": "https://localhost:8080/",
          "height": 335
        },
        "outputId": "f608f821-23e9-428a-c232-19bd10ddce1d"
      },
      "source": [
        "import matplotlib.pyplot as plt\n",
        "\n",
        "plt.figure(figsize = (20,5))\n",
        "\n",
        "plt.subplot(1,3,1)\n",
        "plt.title(\"Net Sales/Income from operations\")\n",
        "data_maruti.sort_index(axis=1, ascending=True).transpose()['Net Sales/Income from operations'].plot()\n",
        "\n",
        "plt.subplot(1,3,2)\n",
        "plt.title('Net Profit/(Loss) For the Period')\n",
        "data_maruti.sort_index(axis=1, ascending=True).transpose()['Net Profit/(Loss) For the Period'].plot()\n",
        "\n",
        "plt.subplot(1,3,3)\n",
        "plt.title(\"Employees Cost\")\n",
        "data_maruti.sort_index(axis=1, ascending=True).transpose()['Employees Cost'].plot(sharex = True)\n",
        "\n",
        "plt.show()"
      ],
      "execution_count": 29,
      "outputs": [
        {
          "output_type": "display_data",
          "data": {
            "image/png": "[encoded data removed]",
            "text/plain": [
              "<Figure size 1440x360 with 3 Axes>"
            ]
          },
          "metadata": {
            "tags": [],
            "needs_background": "light"
          }
        }
      ]
    },
    {
      "cell_type": "code",
      "metadata": {
        "id": "MrK8XTRy-AjL",
        "colab_type": "code",
        "colab": {
          "base_uri": "https://localhost:8080/",
          "height": 282
        },
        "outputId": "0dfef7e3-bf64-47cb-8c49-b1e9a37b2fb8"
      },
      "source": [
        "#Comparitive graph of items scaled to 100 as first value\n",
        "for i in [\"Net Sales/Income from operations\",\"Employees Cost\",\"Net Profit/(Loss) For the Period\",'Basic EPS']:\n",
        "  ((data_maruti.sort_index(axis=1, ascending=True).transpose()[i])/(data_maruti.sort_index(axis=1, ascending=True).transpose()[i]).iloc[0]*100).plot(kind = 'line')\n",
        "plt.legend()\n",
        "plt.grid()\n",
        "plt.figure(figsize = (25,25))\n",
        "plt.show()"
      ],
      "execution_count": 30,
      "outputs": [
        {
          "output_type": "display_data",
          "data": {
            "image/png": "[encoded data removed]",
            "text/plain": [
              "<Figure size 432x288 with 1 Axes>"
            ]
          },
          "metadata": {
            "tags": [],
            "needs_background": "light"
          }
        },
        {
          "output_type": "display_data",
          "data": {
            "text/plain": [
              "<Figure size 1800x1800 with 0 Axes>"
            ]
          },
          "metadata": {
            "tags": []
          }
        }
      ]
    },
    {
      "cell_type": "code",
      "metadata": {
        "id": "9gEvf2-4w_JY",
        "colab_type": "code",
        "colab": {
          "base_uri": "https://localhost:8080/",
          "height": 335
        },
        "outputId": "0f923adb-cde8-4650-a996-62f3f1781667"
      },
      "source": [
        "plt.figure(figsize = (20,5))\n",
        "\n",
        "plt.subplot(1,3,1)\n",
        "plt.title(\"Projections of Net Sales/Income from operations\")\n",
        "prediction_table[prediction_table[\"category\"]==\"Income\"].T.iloc[1:11,:]['Net Sales/Income from operations'].plot()\n",
        "\n",
        "plt.subplot(1,3,2)\n",
        "plt.title('Projections of Other Operating Income')\n",
        "prediction_table[prediction_table[\"category\"]==\"Income\"].T.iloc[1:11,:]['Other Operating Income'].plot()\n",
        "\n",
        "plt.subplot(1,3,3)\n",
        "plt.title(\"Projections of Other Income\")\n",
        "prediction_table[prediction_table[\"category\"]==\"Income\"].T.iloc[1:11,:]['Other Income'].plot()\n",
        "\n",
        "plt.show()"
      ],
      "execution_count": 31,
      "outputs": [
        {
          "output_type": "display_data",
          "data": {
            "image/png": "[encoded data removed]",
            "text/plain": [
              "<Figure size 1440x360 with 3 Axes>"
            ]
          },
          "metadata": {
            "tags": [],
            "needs_background": "light"
          }
        }
      ]
    },
    {
      "cell_type": "code",
      "metadata": {
        "id": "HgmZGoNMyHCc",
        "colab_type": "code",
        "colab": {
          "base_uri": "https://localhost:8080/",
          "height": 387
        },
        "outputId": "3ac1b556-dad6-4520-c78d-df05ce03c85c"
      },
      "source": [
        "#Comparitive graph of projected items scaled to 100 as first value\n",
        "plt.figure(figsize = (6.25,6.25))\n",
        "for i in ['Net Sales/Income from operations','Other Operating Income','Other Income']:\n",
        "  (prediction_table[prediction_table[\"category\"]==\"Income\"].T.iloc[1:11,:][i]/prediction_table[prediction_table[\"category\"]==\"Income\"].T.iloc[1:11,:][i][0]*100).plot()\n",
        "plt.legend()\n",
        "plt.grid()\n",
        "plt.show()"
      ],
      "execution_count": 32,
      "outputs": [
        {
          "output_type": "display_data",
          "data": {
            "image/png": "[encoded data removed]",
            "text/plain": [
              "<Figure size 450x450 with 1 Axes>"
            ]
          },
          "metadata": {
            "tags": [],
            "needs_background": "light"
          }
        }
      ]
    },
    {
      "cell_type": "code",
      "metadata": {
        "id": "53DEv6L_zJjh",
        "colab_type": "code",
        "colab": {
          "base_uri": "https://localhost:8080/",
          "height": 317
        },
        "outputId": "e1a6d1f3-6a79-4dad-8d36-0fb56140bce9"
      },
      "source": [
        "\n",
        "print('Continuing graph of actuals and projections of Net Sales/Income from operations:-')\n",
        "print(\"   \")\n",
        "pd.concat([data_maruti.sort_index(axis=1, ascending=True).transpose()['Net Sales/Income from operations'],prediction_table[prediction_table[\"category\"]==\"Income\"].T.iloc[1:11,:]['Net Sales/Income from operations']]).plot()\n"
      ],
      "execution_count": 33,
      "outputs": [
        {
          "output_type": "stream",
          "text": [
            "Continuing graph of actuals and projections of Net Sales/Income from operations:-\n",
            "   \n"
          ],
          "name": "stdout"
        },
        {
          "output_type": "execute_result",
          "data": {
            "text/plain": [
              "<matplotlib.axes._subplots.AxesSubplot at 0x7f659c199cf8>"
            ]
          },
          "metadata": {
            "tags": []
          },
          "execution_count": 33
        },
        {
          "output_type": "display_data",
          "data": {
            "image/png": "[encoded data removed]",
            "text/plain": [
              "<Figure size 432x288 with 1 Axes>"
            ]
          },
          "metadata": {
            "tags": [],
            "needs_background": "light"
          }
        }
      ]
    },
    {
      "cell_type": "code",
      "metadata": {
        "id": "KYen2YJG3EMW",
        "colab_type": "code",
        "colab": {}
      },
      "source": [
        ""
      ],
      "execution_count": 0,
      "outputs": []
    }
  ]
}